{
 "cells": [
  {
   "cell_type": "markdown",
   "id": "9bb8888e-d15f-4d3b-a340-810ab8742141",
   "metadata": {
    "tags": []
   },
   "source": [
    "## **Imports**"
   ]
  },
  {
   "cell_type": "code",
   "execution_count": 1,
   "id": "9ceea3dd-7f54-4f4e-9c87-4ecbca61bd43",
   "metadata": {},
   "outputs": [],
   "source": [
    "import numpy as np\n",
    "import pandas as pd\n",
    "import matplotlib.pyplot as plt\n",
    "import seaborn as sns\n",
    "from sklearn.model_selection import train_test_split\n",
    "from sklearn.impute import SimpleImputer\n",
    "from sklearn.preprocessing import MinMaxScaler, StandardScaler\n",
    "from sklearn.linear_model import LinearRegression\n",
    "from sklearn.neighbors import KNeighborsRegressor\n",
    "from sklearn import svm\n",
    "from sklearn.metrics import r2_score"
   ]
  },
  {
   "cell_type": "markdown",
   "id": "ac206f69-a791-4cec-ab05-9e422a7160da",
   "metadata": {
    "jp-MarkdownHeadingCollapsed": true,
    "tags": []
   },
   "source": [
    "## **Read Data**"
   ]
  },
  {
   "cell_type": "code",
   "execution_count": 2,
   "id": "d6f4747a-9921-4d63-b013-ce106d3532c9",
   "metadata": {},
   "outputs": [
    {
     "data": {
      "text/html": [
       "<div>\n",
       "<style scoped>\n",
       "    .dataframe tbody tr th:only-of-type {\n",
       "        vertical-align: middle;\n",
       "    }\n",
       "\n",
       "    .dataframe tbody tr th {\n",
       "        vertical-align: top;\n",
       "    }\n",
       "\n",
       "    .dataframe thead th {\n",
       "        text-align: right;\n",
       "    }\n",
       "</style>\n",
       "<table border=\"1\" class=\"dataframe\">\n",
       "  <thead>\n",
       "    <tr style=\"text-align: right;\">\n",
       "      <th></th>\n",
       "      <th>longitude</th>\n",
       "      <th>latitude</th>\n",
       "      <th>housing_median_age</th>\n",
       "      <th>total_rooms</th>\n",
       "      <th>total_bedrooms</th>\n",
       "      <th>population</th>\n",
       "      <th>households</th>\n",
       "      <th>median_income</th>\n",
       "      <th>median_house_value</th>\n",
       "      <th>ocean_proximity</th>\n",
       "    </tr>\n",
       "  </thead>\n",
       "  <tbody>\n",
       "    <tr>\n",
       "      <th>0</th>\n",
       "      <td>-122.23</td>\n",
       "      <td>37.88</td>\n",
       "      <td>41.0</td>\n",
       "      <td>880.0</td>\n",
       "      <td>129.0</td>\n",
       "      <td>322.0</td>\n",
       "      <td>126.0</td>\n",
       "      <td>8.3252</td>\n",
       "      <td>452600.0</td>\n",
       "      <td>NEAR BAY</td>\n",
       "    </tr>\n",
       "    <tr>\n",
       "      <th>1</th>\n",
       "      <td>-122.22</td>\n",
       "      <td>37.86</td>\n",
       "      <td>21.0</td>\n",
       "      <td>7099.0</td>\n",
       "      <td>1106.0</td>\n",
       "      <td>2401.0</td>\n",
       "      <td>1138.0</td>\n",
       "      <td>8.3014</td>\n",
       "      <td>358500.0</td>\n",
       "      <td>NEAR BAY</td>\n",
       "    </tr>\n",
       "    <tr>\n",
       "      <th>2</th>\n",
       "      <td>-122.24</td>\n",
       "      <td>37.85</td>\n",
       "      <td>52.0</td>\n",
       "      <td>1467.0</td>\n",
       "      <td>190.0</td>\n",
       "      <td>496.0</td>\n",
       "      <td>177.0</td>\n",
       "      <td>7.2574</td>\n",
       "      <td>352100.0</td>\n",
       "      <td>NEAR BAY</td>\n",
       "    </tr>\n",
       "    <tr>\n",
       "      <th>3</th>\n",
       "      <td>-122.25</td>\n",
       "      <td>37.85</td>\n",
       "      <td>52.0</td>\n",
       "      <td>1274.0</td>\n",
       "      <td>235.0</td>\n",
       "      <td>558.0</td>\n",
       "      <td>219.0</td>\n",
       "      <td>5.6431</td>\n",
       "      <td>341300.0</td>\n",
       "      <td>NEAR BAY</td>\n",
       "    </tr>\n",
       "    <tr>\n",
       "      <th>4</th>\n",
       "      <td>-122.25</td>\n",
       "      <td>37.85</td>\n",
       "      <td>52.0</td>\n",
       "      <td>1627.0</td>\n",
       "      <td>280.0</td>\n",
       "      <td>565.0</td>\n",
       "      <td>259.0</td>\n",
       "      <td>3.8462</td>\n",
       "      <td>342200.0</td>\n",
       "      <td>NEAR BAY</td>\n",
       "    </tr>\n",
       "    <tr>\n",
       "      <th>...</th>\n",
       "      <td>...</td>\n",
       "      <td>...</td>\n",
       "      <td>...</td>\n",
       "      <td>...</td>\n",
       "      <td>...</td>\n",
       "      <td>...</td>\n",
       "      <td>...</td>\n",
       "      <td>...</td>\n",
       "      <td>...</td>\n",
       "      <td>...</td>\n",
       "    </tr>\n",
       "    <tr>\n",
       "      <th>20635</th>\n",
       "      <td>-121.09</td>\n",
       "      <td>39.48</td>\n",
       "      <td>25.0</td>\n",
       "      <td>1665.0</td>\n",
       "      <td>374.0</td>\n",
       "      <td>845.0</td>\n",
       "      <td>330.0</td>\n",
       "      <td>1.5603</td>\n",
       "      <td>78100.0</td>\n",
       "      <td>INLAND</td>\n",
       "    </tr>\n",
       "    <tr>\n",
       "      <th>20636</th>\n",
       "      <td>-121.21</td>\n",
       "      <td>39.49</td>\n",
       "      <td>18.0</td>\n",
       "      <td>697.0</td>\n",
       "      <td>150.0</td>\n",
       "      <td>356.0</td>\n",
       "      <td>114.0</td>\n",
       "      <td>2.5568</td>\n",
       "      <td>77100.0</td>\n",
       "      <td>INLAND</td>\n",
       "    </tr>\n",
       "    <tr>\n",
       "      <th>20637</th>\n",
       "      <td>-121.22</td>\n",
       "      <td>39.43</td>\n",
       "      <td>17.0</td>\n",
       "      <td>2254.0</td>\n",
       "      <td>485.0</td>\n",
       "      <td>1007.0</td>\n",
       "      <td>433.0</td>\n",
       "      <td>1.7000</td>\n",
       "      <td>92300.0</td>\n",
       "      <td>INLAND</td>\n",
       "    </tr>\n",
       "    <tr>\n",
       "      <th>20638</th>\n",
       "      <td>-121.32</td>\n",
       "      <td>39.43</td>\n",
       "      <td>18.0</td>\n",
       "      <td>1860.0</td>\n",
       "      <td>409.0</td>\n",
       "      <td>741.0</td>\n",
       "      <td>349.0</td>\n",
       "      <td>1.8672</td>\n",
       "      <td>84700.0</td>\n",
       "      <td>INLAND</td>\n",
       "    </tr>\n",
       "    <tr>\n",
       "      <th>20639</th>\n",
       "      <td>-121.24</td>\n",
       "      <td>39.37</td>\n",
       "      <td>16.0</td>\n",
       "      <td>2785.0</td>\n",
       "      <td>616.0</td>\n",
       "      <td>1387.0</td>\n",
       "      <td>530.0</td>\n",
       "      <td>2.3886</td>\n",
       "      <td>89400.0</td>\n",
       "      <td>INLAND</td>\n",
       "    </tr>\n",
       "  </tbody>\n",
       "</table>\n",
       "<p>20640 rows × 10 columns</p>\n",
       "</div>"
      ],
      "text/plain": [
       "       longitude  latitude  housing_median_age  total_rooms  total_bedrooms  \\\n",
       "0        -122.23     37.88                41.0        880.0           129.0   \n",
       "1        -122.22     37.86                21.0       7099.0          1106.0   \n",
       "2        -122.24     37.85                52.0       1467.0           190.0   \n",
       "3        -122.25     37.85                52.0       1274.0           235.0   \n",
       "4        -122.25     37.85                52.0       1627.0           280.0   \n",
       "...          ...       ...                 ...          ...             ...   \n",
       "20635    -121.09     39.48                25.0       1665.0           374.0   \n",
       "20636    -121.21     39.49                18.0        697.0           150.0   \n",
       "20637    -121.22     39.43                17.0       2254.0           485.0   \n",
       "20638    -121.32     39.43                18.0       1860.0           409.0   \n",
       "20639    -121.24     39.37                16.0       2785.0           616.0   \n",
       "\n",
       "       population  households  median_income  median_house_value  \\\n",
       "0           322.0       126.0         8.3252            452600.0   \n",
       "1          2401.0      1138.0         8.3014            358500.0   \n",
       "2           496.0       177.0         7.2574            352100.0   \n",
       "3           558.0       219.0         5.6431            341300.0   \n",
       "4           565.0       259.0         3.8462            342200.0   \n",
       "...           ...         ...            ...                 ...   \n",
       "20635       845.0       330.0         1.5603             78100.0   \n",
       "20636       356.0       114.0         2.5568             77100.0   \n",
       "20637      1007.0       433.0         1.7000             92300.0   \n",
       "20638       741.0       349.0         1.8672             84700.0   \n",
       "20639      1387.0       530.0         2.3886             89400.0   \n",
       "\n",
       "      ocean_proximity  \n",
       "0            NEAR BAY  \n",
       "1            NEAR BAY  \n",
       "2            NEAR BAY  \n",
       "3            NEAR BAY  \n",
       "4            NEAR BAY  \n",
       "...               ...  \n",
       "20635          INLAND  \n",
       "20636          INLAND  \n",
       "20637          INLAND  \n",
       "20638          INLAND  \n",
       "20639          INLAND  \n",
       "\n",
       "[20640 rows x 10 columns]"
      ]
     },
     "execution_count": 2,
     "metadata": {},
     "output_type": "execute_result"
    }
   ],
   "source": [
    "data = pd.read_csv('housing.csv')\n",
    "data"
   ]
  },
  {
   "cell_type": "markdown",
   "id": "3c2303e7-4471-4a8b-ba09-353d041e5338",
   "metadata": {},
   "source": [
    "### Casting Object Data as Categorical Data"
   ]
  },
  {
   "cell_type": "code",
   "execution_count": 3,
   "id": "4e40bc14-641c-4f07-9a77-23cdeb694500",
   "metadata": {},
   "outputs": [
    {
     "data": {
      "text/plain": [
       "longitude              float64\n",
       "latitude               float64\n",
       "housing_median_age     float64\n",
       "total_rooms            float64\n",
       "total_bedrooms         float64\n",
       "population             float64\n",
       "households             float64\n",
       "median_income          float64\n",
       "median_house_value     float64\n",
       "ocean_proximity       category\n",
       "dtype: object"
      ]
     },
     "execution_count": 3,
     "metadata": {},
     "output_type": "execute_result"
    }
   ],
   "source": [
    "data['ocean_proximity'] = data['ocean_proximity'].astype('category')\n",
    "data.dtypes"
   ]
  },
  {
   "cell_type": "markdown",
   "id": "8f8b76d7-5993-482b-a3ca-09b0baac8d06",
   "metadata": {
    "tags": []
   },
   "source": [
    "## **Train_Test Split**"
   ]
  },
  {
   "cell_type": "code",
   "execution_count": 4,
   "id": "70190f8c-d960-4739-a4a6-6620143cfdf9",
   "metadata": {},
   "outputs": [],
   "source": [
    "train_set, test_set = train_test_split(data, test_size=0.2 , random_state=3)"
   ]
  },
  {
   "cell_type": "markdown",
   "id": "9cc96ce3-2db5-4e39-8e8f-cafe61254a21",
   "metadata": {
    "jp-MarkdownHeadingCollapsed": true,
    "tags": []
   },
   "source": [
    "## **Missing values**"
   ]
  },
  {
   "cell_type": "code",
   "execution_count": 5,
   "id": "94f503a6-4954-41f5-8b4d-62327d128685",
   "metadata": {},
   "outputs": [
    {
     "data": {
      "text/plain": [
       "longitude               0\n",
       "latitude                0\n",
       "housing_median_age      0\n",
       "total_rooms             0\n",
       "total_bedrooms        152\n",
       "population              0\n",
       "households              0\n",
       "median_income           0\n",
       "median_house_value      0\n",
       "ocean_proximity         0\n",
       "dtype: int64"
      ]
     },
     "execution_count": 5,
     "metadata": {},
     "output_type": "execute_result"
    }
   ],
   "source": [
    "train_set.isnull().sum()"
   ]
  },
  {
   "cell_type": "markdown",
   "id": "d406589d-a32a-4108-b4a2-9af207be9811",
   "metadata": {},
   "source": [
    "#### * Missing value handling with median"
   ]
  },
  {
   "cell_type": "code",
   "execution_count": 6,
   "id": "8c19074b-0ea4-431c-a930-2e188adfda5e",
   "metadata": {},
   "outputs": [
    {
     "data": {
      "text/plain": [
       "436.0"
      ]
     },
     "execution_count": 6,
     "metadata": {},
     "output_type": "execute_result"
    }
   ],
   "source": [
    "m = train_set['total_bedrooms'].median()\n",
    "m"
   ]
  },
  {
   "cell_type": "code",
   "execution_count": 7,
   "id": "4803cc6b-2732-40a8-91d2-fbdd1b4ad61d",
   "metadata": {},
   "outputs": [
    {
     "data": {
      "text/plain": [
       "longitude             0\n",
       "latitude              0\n",
       "housing_median_age    0\n",
       "total_rooms           0\n",
       "total_bedrooms        0\n",
       "population            0\n",
       "households            0\n",
       "median_income         0\n",
       "median_house_value    0\n",
       "ocean_proximity       0\n",
       "dtype: int64"
      ]
     },
     "execution_count": 7,
     "metadata": {},
     "output_type": "execute_result"
    }
   ],
   "source": [
    "train_set['total_bedrooms'].fillna(m, inplace=True)\n",
    "train_set.isnull().sum()"
   ]
  },
  {
   "cell_type": "markdown",
   "id": "1f535188-6fd8-4944-8c63-c0c562bf21bb",
   "metadata": {
    "jp-MarkdownHeadingCollapsed": true,
    "tags": []
   },
   "source": [
    "## **Encoding Categorical Features**"
   ]
  },
  {
   "cell_type": "code",
   "execution_count": 8,
   "id": "cb229d5d-d2c7-4dd5-8e69-93d050c97d28",
   "metadata": {},
   "outputs": [
    {
     "data": {
      "text/plain": [
       "['NEAR OCEAN', '<1H OCEAN', 'NEAR BAY', 'INLAND', 'ISLAND']\n",
       "Categories (5, object): ['<1H OCEAN', 'INLAND', 'ISLAND', 'NEAR BAY', 'NEAR OCEAN']"
      ]
     },
     "execution_count": 8,
     "metadata": {},
     "output_type": "execute_result"
    }
   ],
   "source": [
    "train_set.ocean_proximity.unique()"
   ]
  },
  {
   "cell_type": "markdown",
   "id": "44e8b204-5c95-48b6-864a-9c1caa518317",
   "metadata": {},
   "source": [
    "#### *One Hot Method"
   ]
  },
  {
   "cell_type": "code",
   "execution_count": 9,
   "id": "bbaa4938-dee1-4ee0-942e-4bf109795be5",
   "metadata": {},
   "outputs": [
    {
     "data": {
      "text/html": [
       "<div>\n",
       "<style scoped>\n",
       "    .dataframe tbody tr th:only-of-type {\n",
       "        vertical-align: middle;\n",
       "    }\n",
       "\n",
       "    .dataframe tbody tr th {\n",
       "        vertical-align: top;\n",
       "    }\n",
       "\n",
       "    .dataframe thead th {\n",
       "        text-align: right;\n",
       "    }\n",
       "</style>\n",
       "<table border=\"1\" class=\"dataframe\">\n",
       "  <thead>\n",
       "    <tr style=\"text-align: right;\">\n",
       "      <th></th>\n",
       "      <th>longitude</th>\n",
       "      <th>latitude</th>\n",
       "      <th>housing_median_age</th>\n",
       "      <th>total_rooms</th>\n",
       "      <th>total_bedrooms</th>\n",
       "      <th>population</th>\n",
       "      <th>households</th>\n",
       "      <th>median_income</th>\n",
       "      <th>median_house_value</th>\n",
       "      <th>ocean_proximity_&lt;1H OCEAN</th>\n",
       "      <th>ocean_proximity_INLAND</th>\n",
       "      <th>ocean_proximity_ISLAND</th>\n",
       "      <th>ocean_proximity_NEAR BAY</th>\n",
       "      <th>ocean_proximity_NEAR OCEAN</th>\n",
       "    </tr>\n",
       "  </thead>\n",
       "  <tbody>\n",
       "    <tr>\n",
       "      <th>14884</th>\n",
       "      <td>-118.14</td>\n",
       "      <td>33.77</td>\n",
       "      <td>51.0</td>\n",
       "      <td>2812.0</td>\n",
       "      <td>621.0</td>\n",
       "      <td>1171.0</td>\n",
       "      <td>566.0</td>\n",
       "      <td>3.8750</td>\n",
       "      <td>342900.0</td>\n",
       "      <td>0.0</td>\n",
       "      <td>0.0</td>\n",
       "      <td>0.0</td>\n",
       "      <td>0.0</td>\n",
       "      <td>1.0</td>\n",
       "    </tr>\n",
       "    <tr>\n",
       "      <th>1519</th>\n",
       "      <td>-117.04</td>\n",
       "      <td>32.68</td>\n",
       "      <td>11.0</td>\n",
       "      <td>1875.0</td>\n",
       "      <td>357.0</td>\n",
       "      <td>1014.0</td>\n",
       "      <td>386.0</td>\n",
       "      <td>4.3750</td>\n",
       "      <td>115000.0</td>\n",
       "      <td>0.0</td>\n",
       "      <td>0.0</td>\n",
       "      <td>0.0</td>\n",
       "      <td>0.0</td>\n",
       "      <td>1.0</td>\n",
       "    </tr>\n",
       "    <tr>\n",
       "      <th>10018</th>\n",
       "      <td>-121.96</td>\n",
       "      <td>37.22</td>\n",
       "      <td>35.0</td>\n",
       "      <td>4709.0</td>\n",
       "      <td>723.0</td>\n",
       "      <td>1866.0</td>\n",
       "      <td>694.0</td>\n",
       "      <td>8.4920</td>\n",
       "      <td>500001.0</td>\n",
       "      <td>1.0</td>\n",
       "      <td>0.0</td>\n",
       "      <td>0.0</td>\n",
       "      <td>0.0</td>\n",
       "      <td>0.0</td>\n",
       "    </tr>\n",
       "    <tr>\n",
       "      <th>9701</th>\n",
       "      <td>-118.10</td>\n",
       "      <td>34.13</td>\n",
       "      <td>47.0</td>\n",
       "      <td>2234.0</td>\n",
       "      <td>276.0</td>\n",
       "      <td>749.0</td>\n",
       "      <td>260.0</td>\n",
       "      <td>15.0001</td>\n",
       "      <td>500001.0</td>\n",
       "      <td>1.0</td>\n",
       "      <td>0.0</td>\n",
       "      <td>0.0</td>\n",
       "      <td>0.0</td>\n",
       "      <td>0.0</td>\n",
       "    </tr>\n",
       "    <tr>\n",
       "      <th>11484</th>\n",
       "      <td>-117.08</td>\n",
       "      <td>32.70</td>\n",
       "      <td>37.0</td>\n",
       "      <td>2176.0</td>\n",
       "      <td>418.0</td>\n",
       "      <td>1301.0</td>\n",
       "      <td>375.0</td>\n",
       "      <td>2.8750</td>\n",
       "      <td>98900.0</td>\n",
       "      <td>0.0</td>\n",
       "      <td>0.0</td>\n",
       "      <td>0.0</td>\n",
       "      <td>0.0</td>\n",
       "      <td>1.0</td>\n",
       "    </tr>\n",
       "    <tr>\n",
       "      <th>...</th>\n",
       "      <td>...</td>\n",
       "      <td>...</td>\n",
       "      <td>...</td>\n",
       "      <td>...</td>\n",
       "      <td>...</td>\n",
       "      <td>...</td>\n",
       "      <td>...</td>\n",
       "      <td>...</td>\n",
       "      <td>...</td>\n",
       "      <td>...</td>\n",
       "      <td>...</td>\n",
       "      <td>...</td>\n",
       "      <td>...</td>\n",
       "      <td>...</td>\n",
       "    </tr>\n",
       "    <tr>\n",
       "      <th>6400</th>\n",
       "      <td>-121.76</td>\n",
       "      <td>36.77</td>\n",
       "      <td>27.0</td>\n",
       "      <td>1608.0</td>\n",
       "      <td>503.0</td>\n",
       "      <td>2031.0</td>\n",
       "      <td>498.0</td>\n",
       "      <td>2.3384</td>\n",
       "      <td>121000.0</td>\n",
       "      <td>1.0</td>\n",
       "      <td>0.0</td>\n",
       "      <td>0.0</td>\n",
       "      <td>0.0</td>\n",
       "      <td>0.0</td>\n",
       "    </tr>\n",
       "    <tr>\n",
       "      <th>15288</th>\n",
       "      <td>-119.00</td>\n",
       "      <td>35.35</td>\n",
       "      <td>31.0</td>\n",
       "      <td>2931.0</td>\n",
       "      <td>716.0</td>\n",
       "      <td>1969.0</td>\n",
       "      <td>588.0</td>\n",
       "      <td>2.2155</td>\n",
       "      <td>62100.0</td>\n",
       "      <td>0.0</td>\n",
       "      <td>1.0</td>\n",
       "      <td>0.0</td>\n",
       "      <td>0.0</td>\n",
       "      <td>0.0</td>\n",
       "    </tr>\n",
       "    <tr>\n",
       "      <th>11513</th>\n",
       "      <td>-117.84</td>\n",
       "      <td>33.78</td>\n",
       "      <td>26.0</td>\n",
       "      <td>2577.0</td>\n",
       "      <td>434.0</td>\n",
       "      <td>1086.0</td>\n",
       "      <td>432.0</td>\n",
       "      <td>4.6125</td>\n",
       "      <td>229200.0</td>\n",
       "      <td>1.0</td>\n",
       "      <td>0.0</td>\n",
       "      <td>0.0</td>\n",
       "      <td>0.0</td>\n",
       "      <td>0.0</td>\n",
       "    </tr>\n",
       "    <tr>\n",
       "      <th>1688</th>\n",
       "      <td>-119.02</td>\n",
       "      <td>35.41</td>\n",
       "      <td>41.0</td>\n",
       "      <td>2221.0</td>\n",
       "      <td>516.0</td>\n",
       "      <td>1106.0</td>\n",
       "      <td>473.0</td>\n",
       "      <td>1.9700</td>\n",
       "      <td>51900.0</td>\n",
       "      <td>0.0</td>\n",
       "      <td>1.0</td>\n",
       "      <td>0.0</td>\n",
       "      <td>0.0</td>\n",
       "      <td>0.0</td>\n",
       "    </tr>\n",
       "    <tr>\n",
       "      <th>5994</th>\n",
       "      <td>-119.02</td>\n",
       "      <td>36.05</td>\n",
       "      <td>22.0</td>\n",
       "      <td>2078.0</td>\n",
       "      <td>431.0</td>\n",
       "      <td>1336.0</td>\n",
       "      <td>456.0</td>\n",
       "      <td>2.2202</td>\n",
       "      <td>65200.0</td>\n",
       "      <td>0.0</td>\n",
       "      <td>1.0</td>\n",
       "      <td>0.0</td>\n",
       "      <td>0.0</td>\n",
       "      <td>0.0</td>\n",
       "    </tr>\n",
       "  </tbody>\n",
       "</table>\n",
       "<p>16512 rows × 14 columns</p>\n",
       "</div>"
      ],
      "text/plain": [
       "       longitude  latitude  housing_median_age  total_rooms  total_bedrooms  \\\n",
       "14884    -118.14     33.77                51.0       2812.0           621.0   \n",
       "1519     -117.04     32.68                11.0       1875.0           357.0   \n",
       "10018    -121.96     37.22                35.0       4709.0           723.0   \n",
       "9701     -118.10     34.13                47.0       2234.0           276.0   \n",
       "11484    -117.08     32.70                37.0       2176.0           418.0   \n",
       "...          ...       ...                 ...          ...             ...   \n",
       "6400     -121.76     36.77                27.0       1608.0           503.0   \n",
       "15288    -119.00     35.35                31.0       2931.0           716.0   \n",
       "11513    -117.84     33.78                26.0       2577.0           434.0   \n",
       "1688     -119.02     35.41                41.0       2221.0           516.0   \n",
       "5994     -119.02     36.05                22.0       2078.0           431.0   \n",
       "\n",
       "       population  households  median_income  median_house_value  \\\n",
       "14884      1171.0       566.0         3.8750            342900.0   \n",
       "1519       1014.0       386.0         4.3750            115000.0   \n",
       "10018      1866.0       694.0         8.4920            500001.0   \n",
       "9701        749.0       260.0        15.0001            500001.0   \n",
       "11484      1301.0       375.0         2.8750             98900.0   \n",
       "...           ...         ...            ...                 ...   \n",
       "6400       2031.0       498.0         2.3384            121000.0   \n",
       "15288      1969.0       588.0         2.2155             62100.0   \n",
       "11513      1086.0       432.0         4.6125            229200.0   \n",
       "1688       1106.0       473.0         1.9700             51900.0   \n",
       "5994       1336.0       456.0         2.2202             65200.0   \n",
       "\n",
       "       ocean_proximity_<1H OCEAN  ocean_proximity_INLAND  \\\n",
       "14884                        0.0                     0.0   \n",
       "1519                         0.0                     0.0   \n",
       "10018                        1.0                     0.0   \n",
       "9701                         1.0                     0.0   \n",
       "11484                        0.0                     0.0   \n",
       "...                          ...                     ...   \n",
       "6400                         1.0                     0.0   \n",
       "15288                        0.0                     1.0   \n",
       "11513                        1.0                     0.0   \n",
       "1688                         0.0                     1.0   \n",
       "5994                         0.0                     1.0   \n",
       "\n",
       "       ocean_proximity_ISLAND  ocean_proximity_NEAR BAY  \\\n",
       "14884                     0.0                       0.0   \n",
       "1519                      0.0                       0.0   \n",
       "10018                     0.0                       0.0   \n",
       "9701                      0.0                       0.0   \n",
       "11484                     0.0                       0.0   \n",
       "...                       ...                       ...   \n",
       "6400                      0.0                       0.0   \n",
       "15288                     0.0                       0.0   \n",
       "11513                     0.0                       0.0   \n",
       "1688                      0.0                       0.0   \n",
       "5994                      0.0                       0.0   \n",
       "\n",
       "       ocean_proximity_NEAR OCEAN  \n",
       "14884                         1.0  \n",
       "1519                          1.0  \n",
       "10018                         0.0  \n",
       "9701                          0.0  \n",
       "11484                         1.0  \n",
       "...                           ...  \n",
       "6400                          0.0  \n",
       "15288                         0.0  \n",
       "11513                         0.0  \n",
       "1688                          0.0  \n",
       "5994                          0.0  \n",
       "\n",
       "[16512 rows x 14 columns]"
      ]
     },
     "execution_count": 9,
     "metadata": {},
     "output_type": "execute_result"
    }
   ],
   "source": [
    "train_set = pd.get_dummies(train_set, columns=['ocean_proximity'], dtype=np.float64)\n",
    "train_set"
   ]
  },
  {
   "cell_type": "markdown",
   "id": "d518eabb-d5e5-44f8-bb62-57b8dc645d66",
   "metadata": {},
   "source": [
    "#### Creating more codeable column names in train_set"
   ]
  },
  {
   "cell_type": "code",
   "execution_count": 10,
   "id": "08e8aedf-fa7e-4428-8bc0-f0bd27662210",
   "metadata": {},
   "outputs": [
    {
     "data": {
      "text/html": [
       "<div>\n",
       "<style scoped>\n",
       "    .dataframe tbody tr th:only-of-type {\n",
       "        vertical-align: middle;\n",
       "    }\n",
       "\n",
       "    .dataframe tbody tr th {\n",
       "        vertical-align: top;\n",
       "    }\n",
       "\n",
       "    .dataframe thead th {\n",
       "        text-align: right;\n",
       "    }\n",
       "</style>\n",
       "<table border=\"1\" class=\"dataframe\">\n",
       "  <thead>\n",
       "    <tr style=\"text-align: right;\">\n",
       "      <th></th>\n",
       "      <th>longitude</th>\n",
       "      <th>latitude</th>\n",
       "      <th>housing_median_age</th>\n",
       "      <th>total_rooms</th>\n",
       "      <th>total_bedrooms</th>\n",
       "      <th>population</th>\n",
       "      <th>households</th>\n",
       "      <th>median_income</th>\n",
       "      <th>median_house_value</th>\n",
       "      <th>ocean_proximity_1h_ocean</th>\n",
       "      <th>ocean_proximity_inland</th>\n",
       "      <th>ocean_proximity_island</th>\n",
       "      <th>ocean_proximity_near_bay</th>\n",
       "      <th>ocean_proximity_near_ocean</th>\n",
       "    </tr>\n",
       "  </thead>\n",
       "  <tbody>\n",
       "    <tr>\n",
       "      <th>14884</th>\n",
       "      <td>-118.14</td>\n",
       "      <td>33.77</td>\n",
       "      <td>51.0</td>\n",
       "      <td>2812.0</td>\n",
       "      <td>621.0</td>\n",
       "      <td>1171.0</td>\n",
       "      <td>566.0</td>\n",
       "      <td>3.8750</td>\n",
       "      <td>342900.0</td>\n",
       "      <td>0.0</td>\n",
       "      <td>0.0</td>\n",
       "      <td>0.0</td>\n",
       "      <td>0.0</td>\n",
       "      <td>1.0</td>\n",
       "    </tr>\n",
       "    <tr>\n",
       "      <th>1519</th>\n",
       "      <td>-117.04</td>\n",
       "      <td>32.68</td>\n",
       "      <td>11.0</td>\n",
       "      <td>1875.0</td>\n",
       "      <td>357.0</td>\n",
       "      <td>1014.0</td>\n",
       "      <td>386.0</td>\n",
       "      <td>4.3750</td>\n",
       "      <td>115000.0</td>\n",
       "      <td>0.0</td>\n",
       "      <td>0.0</td>\n",
       "      <td>0.0</td>\n",
       "      <td>0.0</td>\n",
       "      <td>1.0</td>\n",
       "    </tr>\n",
       "    <tr>\n",
       "      <th>10018</th>\n",
       "      <td>-121.96</td>\n",
       "      <td>37.22</td>\n",
       "      <td>35.0</td>\n",
       "      <td>4709.0</td>\n",
       "      <td>723.0</td>\n",
       "      <td>1866.0</td>\n",
       "      <td>694.0</td>\n",
       "      <td>8.4920</td>\n",
       "      <td>500001.0</td>\n",
       "      <td>1.0</td>\n",
       "      <td>0.0</td>\n",
       "      <td>0.0</td>\n",
       "      <td>0.0</td>\n",
       "      <td>0.0</td>\n",
       "    </tr>\n",
       "    <tr>\n",
       "      <th>9701</th>\n",
       "      <td>-118.10</td>\n",
       "      <td>34.13</td>\n",
       "      <td>47.0</td>\n",
       "      <td>2234.0</td>\n",
       "      <td>276.0</td>\n",
       "      <td>749.0</td>\n",
       "      <td>260.0</td>\n",
       "      <td>15.0001</td>\n",
       "      <td>500001.0</td>\n",
       "      <td>1.0</td>\n",
       "      <td>0.0</td>\n",
       "      <td>0.0</td>\n",
       "      <td>0.0</td>\n",
       "      <td>0.0</td>\n",
       "    </tr>\n",
       "    <tr>\n",
       "      <th>11484</th>\n",
       "      <td>-117.08</td>\n",
       "      <td>32.70</td>\n",
       "      <td>37.0</td>\n",
       "      <td>2176.0</td>\n",
       "      <td>418.0</td>\n",
       "      <td>1301.0</td>\n",
       "      <td>375.0</td>\n",
       "      <td>2.8750</td>\n",
       "      <td>98900.0</td>\n",
       "      <td>0.0</td>\n",
       "      <td>0.0</td>\n",
       "      <td>0.0</td>\n",
       "      <td>0.0</td>\n",
       "      <td>1.0</td>\n",
       "    </tr>\n",
       "  </tbody>\n",
       "</table>\n",
       "</div>"
      ],
      "text/plain": [
       "       longitude  latitude  housing_median_age  total_rooms  total_bedrooms  \\\n",
       "14884    -118.14     33.77                51.0       2812.0           621.0   \n",
       "1519     -117.04     32.68                11.0       1875.0           357.0   \n",
       "10018    -121.96     37.22                35.0       4709.0           723.0   \n",
       "9701     -118.10     34.13                47.0       2234.0           276.0   \n",
       "11484    -117.08     32.70                37.0       2176.0           418.0   \n",
       "\n",
       "       population  households  median_income  median_house_value  \\\n",
       "14884      1171.0       566.0         3.8750            342900.0   \n",
       "1519       1014.0       386.0         4.3750            115000.0   \n",
       "10018      1866.0       694.0         8.4920            500001.0   \n",
       "9701        749.0       260.0        15.0001            500001.0   \n",
       "11484      1301.0       375.0         2.8750             98900.0   \n",
       "\n",
       "       ocean_proximity_1h_ocean  ocean_proximity_inland  \\\n",
       "14884                       0.0                     0.0   \n",
       "1519                        0.0                     0.0   \n",
       "10018                       1.0                     0.0   \n",
       "9701                        1.0                     0.0   \n",
       "11484                       0.0                     0.0   \n",
       "\n",
       "       ocean_proximity_island  ocean_proximity_near_bay  \\\n",
       "14884                     0.0                       0.0   \n",
       "1519                      0.0                       0.0   \n",
       "10018                     0.0                       0.0   \n",
       "9701                      0.0                       0.0   \n",
       "11484                     0.0                       0.0   \n",
       "\n",
       "       ocean_proximity_near_ocean  \n",
       "14884                         1.0  \n",
       "1519                          1.0  \n",
       "10018                         0.0  \n",
       "9701                          0.0  \n",
       "11484                         1.0  "
      ]
     },
     "execution_count": 10,
     "metadata": {},
     "output_type": "execute_result"
    }
   ],
   "source": [
    "train_set.columns\n",
    "train_set.rename(columns={'ocean_proximity_<1H OCEAN': 'ocean_proximity_1h_ocean', \n",
    "                        'ocean_proximity_INLAND': 'ocean_proximity_inland',\n",
    "                        'ocean_proximity_ISLAND': 'ocean_proximity_island', \n",
    "                        'ocean_proximity_NEAR BAY': 'ocean_proximity_near_bay',\n",
    "                        'ocean_proximity_NEAR OCEAN': 'ocean_proximity_near_ocean'}, inplace=True)\n",
    "train_set.head()"
   ]
  },
  {
   "cell_type": "markdown",
   "id": "bdb80ff4-5c0a-46d6-b825-c58c07818acf",
   "metadata": {
    "tags": []
   },
   "source": [
    "## **Correlation**"
   ]
  },
  {
   "cell_type": "code",
   "execution_count": 11,
   "id": "599272c6-c924-4c5a-acb5-2f68af159a2c",
   "metadata": {},
   "outputs": [
    {
     "data": {
      "image/png": "[encoded data removed]",
      "text/plain": [
       "<Figure size 1008x576 with 2 Axes>"
      ]
     },
     "metadata": {
      "needs_background": "light"
     },
     "output_type": "display_data"
    }
   ],
   "source": [
    "plt.figure(figsize=(14, 8))\n",
    "corr = train_set.corr()\n",
    "sns.heatmap(corr, annot=True , cmap='viridis');"
   ]
  },
  {
   "cell_type": "code",
   "execution_count": 12,
   "id": "6f8f6f77-5415-45bb-9653-34960be0ec18",
   "metadata": {},
   "outputs": [
    {
     "data": {
      "text/html": [
       "<div>\n",
       "<style scoped>\n",
       "    .dataframe tbody tr th:only-of-type {\n",
       "        vertical-align: middle;\n",
       "    }\n",
       "\n",
       "    .dataframe tbody tr th {\n",
       "        vertical-align: top;\n",
       "    }\n",
       "\n",
       "    .dataframe thead th {\n",
       "        text-align: right;\n",
       "    }\n",
       "</style>\n",
       "<table border=\"1\" class=\"dataframe\">\n",
       "  <thead>\n",
       "    <tr style=\"text-align: right;\">\n",
       "      <th></th>\n",
       "      <th>median_house_value</th>\n",
       "    </tr>\n",
       "  </thead>\n",
       "  <tbody>\n",
       "    <tr>\n",
       "      <th>population</th>\n",
       "      <td>0.024377</td>\n",
       "    </tr>\n",
       "    <tr>\n",
       "      <th>ocean_proximity_island</th>\n",
       "      <td>0.026006</td>\n",
       "    </tr>\n",
       "    <tr>\n",
       "      <th>longitude</th>\n",
       "      <td>0.044750</td>\n",
       "    </tr>\n",
       "    <tr>\n",
       "      <th>total_bedrooms</th>\n",
       "      <td>0.051122</td>\n",
       "    </tr>\n",
       "    <tr>\n",
       "      <th>households</th>\n",
       "      <td>0.067993</td>\n",
       "    </tr>\n",
       "    <tr>\n",
       "      <th>housing_median_age</th>\n",
       "      <td>0.103696</td>\n",
       "    </tr>\n",
       "    <tr>\n",
       "      <th>total_rooms</th>\n",
       "      <td>0.136192</td>\n",
       "    </tr>\n",
       "    <tr>\n",
       "      <th>ocean_proximity_near_ocean</th>\n",
       "      <td>0.143914</td>\n",
       "    </tr>\n",
       "    <tr>\n",
       "      <th>latitude</th>\n",
       "      <td>0.146057</td>\n",
       "    </tr>\n",
       "    <tr>\n",
       "      <th>ocean_proximity_near_bay</th>\n",
       "      <td>0.160160</td>\n",
       "    </tr>\n",
       "    <tr>\n",
       "      <th>ocean_proximity_1h_ocean</th>\n",
       "      <td>0.256657</td>\n",
       "    </tr>\n",
       "    <tr>\n",
       "      <th>ocean_proximity_inland</th>\n",
       "      <td>0.486965</td>\n",
       "    </tr>\n",
       "    <tr>\n",
       "      <th>median_income</th>\n",
       "      <td>0.688153</td>\n",
       "    </tr>\n",
       "    <tr>\n",
       "      <th>median_house_value</th>\n",
       "      <td>1.000000</td>\n",
       "    </tr>\n",
       "  </tbody>\n",
       "</table>\n",
       "</div>"
      ],
      "text/plain": [
       "                            median_house_value\n",
       "population                            0.024377\n",
       "ocean_proximity_island                0.026006\n",
       "longitude                             0.044750\n",
       "total_bedrooms                        0.051122\n",
       "households                            0.067993\n",
       "housing_median_age                    0.103696\n",
       "total_rooms                           0.136192\n",
       "ocean_proximity_near_ocean            0.143914\n",
       "latitude                              0.146057\n",
       "ocean_proximity_near_bay              0.160160\n",
       "ocean_proximity_1h_ocean              0.256657\n",
       "ocean_proximity_inland                0.486965\n",
       "median_income                         0.688153\n",
       "median_house_value                    1.000000"
      ]
     },
     "execution_count": 12,
     "metadata": {},
     "output_type": "execute_result"
    }
   ],
   "source": [
    "corr[['median_house_value']].abs().sort_values(by='median_house_value')"
   ]
  },
  {
   "cell_type": "markdown",
   "id": "ed014350-05f3-498e-9e22-d0e273bef7b1",
   "metadata": {
    "jp-MarkdownHeadingCollapsed": true,
    "tags": []
   },
   "source": [
    "## **Normalization**"
   ]
  },
  {
   "cell_type": "code",
   "execution_count": 13,
   "id": "3b805728-3ce7-44db-b748-442bc7498bf1",
   "metadata": {},
   "outputs": [
    {
     "data": {
      "text/plain": [
       "array([[0.6185259 , 0.13071201, 0.98039216, ..., 0.        , 0.        ,\n",
       "        1.        ],\n",
       "       [0.72808765, 0.01487779, 0.19607843, ..., 0.        , 0.        ,\n",
       "        1.        ],\n",
       "       [0.23804781, 0.49734325, 0.66666667, ..., 0.        , 0.        ,\n",
       "        0.        ],\n",
       "       ...,\n",
       "       [0.64840637, 0.13177471, 0.49019608, ..., 0.        , 0.        ,\n",
       "        0.        ],\n",
       "       [0.53087649, 0.30499469, 0.78431373, ..., 0.        , 0.        ,\n",
       "        0.        ],\n",
       "       [0.53087649, 0.37300744, 0.41176471, ..., 0.        , 0.        ,\n",
       "        0.        ]])"
      ]
     },
     "execution_count": 13,
     "metadata": {},
     "output_type": "execute_result"
    }
   ],
   "source": [
    "normz = MinMaxScaler()\n",
    "train_set = normz.fit_transform(train_set)\n",
    "train_set"
   ]
  },
  {
   "cell_type": "markdown",
   "id": "7a13b918-75ee-4541-a0bc-321673cd3322",
   "metadata": {
    "jp-MarkdownHeadingCollapsed": true,
    "tags": []
   },
   "source": [
    "## **Test Data**"
   ]
  },
  {
   "cell_type": "markdown",
   "id": "53e301f4-dc3f-4857-98fb-ed5510d6c289",
   "metadata": {
    "jp-MarkdownHeadingCollapsed": true,
    "tags": []
   },
   "source": [
    "#### **Missing values**"
   ]
  },
  {
   "cell_type": "code",
   "execution_count": 14,
   "id": "275f41a2-96ef-42a6-9b49-373a6e9dc8d0",
   "metadata": {},
   "outputs": [
    {
     "data": {
      "text/plain": [
       "longitude              0\n",
       "latitude               0\n",
       "housing_median_age     0\n",
       "total_rooms            0\n",
       "total_bedrooms        55\n",
       "population             0\n",
       "households             0\n",
       "median_income          0\n",
       "median_house_value     0\n",
       "ocean_proximity        0\n",
       "dtype: int64"
      ]
     },
     "execution_count": 14,
     "metadata": {},
     "output_type": "execute_result"
    }
   ],
   "source": [
    "test_set.isnull().sum()"
   ]
  },
  {
   "cell_type": "code",
   "execution_count": 15,
   "id": "750bcd9d-0394-4a0c-93bd-4cc0b0c7f48e",
   "metadata": {},
   "outputs": [
    {
     "data": {
      "text/plain": [
       "longitude             0\n",
       "latitude              0\n",
       "housing_median_age    0\n",
       "total_rooms           0\n",
       "total_bedrooms        0\n",
       "population            0\n",
       "households            0\n",
       "median_income         0\n",
       "median_house_value    0\n",
       "ocean_proximity       0\n",
       "dtype: int64"
      ]
     },
     "execution_count": 15,
     "metadata": {},
     "output_type": "execute_result"
    }
   ],
   "source": [
    "test_set['total_bedrooms'].fillna(m, inplace=True)\n",
    "test_set.isnull().sum()"
   ]
  },
  {
   "cell_type": "markdown",
   "id": "117b54f2-776f-4cb4-97dd-a44cd0a36567",
   "metadata": {
    "tags": []
   },
   "source": [
    "#### **Encoding Categorical Features**"
   ]
  },
  {
   "cell_type": "code",
   "execution_count": 16,
   "id": "31bb702f-c143-4009-b77c-50902008f6a9",
   "metadata": {},
   "outputs": [
    {
     "data": {
      "text/plain": [
       "['<1H OCEAN', 'NEAR OCEAN', 'NEAR BAY', 'INLAND', 'ISLAND']\n",
       "Categories (5, object): ['<1H OCEAN', 'INLAND', 'ISLAND', 'NEAR BAY', 'NEAR OCEAN']"
      ]
     },
     "execution_count": 16,
     "metadata": {},
     "output_type": "execute_result"
    }
   ],
   "source": [
    "test_set.ocean_proximity.unique()"
   ]
  },
  {
   "cell_type": "code",
   "execution_count": 17,
   "id": "12eedbba-19f0-455b-a33c-213968427efd",
   "metadata": {},
   "outputs": [
    {
     "data": {
      "text/html": [
       "<div>\n",
       "<style scoped>\n",
       "    .dataframe tbody tr th:only-of-type {\n",
       "        vertical-align: middle;\n",
       "    }\n",
       "\n",
       "    .dataframe tbody tr th {\n",
       "        vertical-align: top;\n",
       "    }\n",
       "\n",
       "    .dataframe thead th {\n",
       "        text-align: right;\n",
       "    }\n",
       "</style>\n",
       "<table border=\"1\" class=\"dataframe\">\n",
       "  <thead>\n",
       "    <tr style=\"text-align: right;\">\n",
       "      <th></th>\n",
       "      <th>longitude</th>\n",
       "      <th>latitude</th>\n",
       "      <th>housing_median_age</th>\n",
       "      <th>total_rooms</th>\n",
       "      <th>total_bedrooms</th>\n",
       "      <th>population</th>\n",
       "      <th>households</th>\n",
       "      <th>median_income</th>\n",
       "      <th>median_house_value</th>\n",
       "      <th>ocean_proximity_&lt;1H OCEAN</th>\n",
       "      <th>ocean_proximity_INLAND</th>\n",
       "      <th>ocean_proximity_ISLAND</th>\n",
       "      <th>ocean_proximity_NEAR BAY</th>\n",
       "      <th>ocean_proximity_NEAR OCEAN</th>\n",
       "    </tr>\n",
       "  </thead>\n",
       "  <tbody>\n",
       "    <tr>\n",
       "      <th>9491</th>\n",
       "      <td>-118.36</td>\n",
       "      <td>34.18</td>\n",
       "      <td>36.0</td>\n",
       "      <td>2233.0</td>\n",
       "      <td>605.0</td>\n",
       "      <td>1934.0</td>\n",
       "      <td>599.0</td>\n",
       "      <td>2.8784</td>\n",
       "      <td>194900.0</td>\n",
       "      <td>1.0</td>\n",
       "      <td>0.0</td>\n",
       "      <td>0.0</td>\n",
       "      <td>0.0</td>\n",
       "      <td>0.0</td>\n",
       "    </tr>\n",
       "    <tr>\n",
       "      <th>11843</th>\n",
       "      <td>-117.07</td>\n",
       "      <td>32.69</td>\n",
       "      <td>29.0</td>\n",
       "      <td>1429.0</td>\n",
       "      <td>293.0</td>\n",
       "      <td>1091.0</td>\n",
       "      <td>317.0</td>\n",
       "      <td>3.4609</td>\n",
       "      <td>118000.0</td>\n",
       "      <td>0.0</td>\n",
       "      <td>0.0</td>\n",
       "      <td>0.0</td>\n",
       "      <td>0.0</td>\n",
       "      <td>1.0</td>\n",
       "    </tr>\n",
       "    <tr>\n",
       "      <th>11271</th>\n",
       "      <td>-117.27</td>\n",
       "      <td>33.15</td>\n",
       "      <td>4.0</td>\n",
       "      <td>23915.0</td>\n",
       "      <td>4135.0</td>\n",
       "      <td>10877.0</td>\n",
       "      <td>3958.0</td>\n",
       "      <td>4.6357</td>\n",
       "      <td>244900.0</td>\n",
       "      <td>0.0</td>\n",
       "      <td>0.0</td>\n",
       "      <td>0.0</td>\n",
       "      <td>0.0</td>\n",
       "      <td>1.0</td>\n",
       "    </tr>\n",
       "    <tr>\n",
       "      <th>19219</th>\n",
       "      <td>-118.29</td>\n",
       "      <td>34.05</td>\n",
       "      <td>18.0</td>\n",
       "      <td>3585.0</td>\n",
       "      <td>1661.0</td>\n",
       "      <td>5229.0</td>\n",
       "      <td>1534.0</td>\n",
       "      <td>1.8470</td>\n",
       "      <td>250000.0</td>\n",
       "      <td>1.0</td>\n",
       "      <td>0.0</td>\n",
       "      <td>0.0</td>\n",
       "      <td>0.0</td>\n",
       "      <td>0.0</td>\n",
       "    </tr>\n",
       "    <tr>\n",
       "      <th>14356</th>\n",
       "      <td>-118.38</td>\n",
       "      <td>33.87</td>\n",
       "      <td>23.0</td>\n",
       "      <td>2387.0</td>\n",
       "      <td>418.0</td>\n",
       "      <td>1008.0</td>\n",
       "      <td>415.0</td>\n",
       "      <td>5.8518</td>\n",
       "      <td>337900.0</td>\n",
       "      <td>1.0</td>\n",
       "      <td>0.0</td>\n",
       "      <td>0.0</td>\n",
       "      <td>0.0</td>\n",
       "      <td>0.0</td>\n",
       "    </tr>\n",
       "    <tr>\n",
       "      <th>...</th>\n",
       "      <td>...</td>\n",
       "      <td>...</td>\n",
       "      <td>...</td>\n",
       "      <td>...</td>\n",
       "      <td>...</td>\n",
       "      <td>...</td>\n",
       "      <td>...</td>\n",
       "      <td>...</td>\n",
       "      <td>...</td>\n",
       "      <td>...</td>\n",
       "      <td>...</td>\n",
       "      <td>...</td>\n",
       "      <td>...</td>\n",
       "      <td>...</td>\n",
       "    </tr>\n",
       "    <tr>\n",
       "      <th>16911</th>\n",
       "      <td>-117.06</td>\n",
       "      <td>34.90</td>\n",
       "      <td>36.0</td>\n",
       "      <td>2828.0</td>\n",
       "      <td>916.0</td>\n",
       "      <td>1762.0</td>\n",
       "      <td>736.0</td>\n",
       "      <td>1.4318</td>\n",
       "      <td>59600.0</td>\n",
       "      <td>0.0</td>\n",
       "      <td>1.0</td>\n",
       "      <td>0.0</td>\n",
       "      <td>0.0</td>\n",
       "      <td>0.0</td>\n",
       "    </tr>\n",
       "    <tr>\n",
       "      <th>16881</th>\n",
       "      <td>-117.93</td>\n",
       "      <td>33.86</td>\n",
       "      <td>36.0</td>\n",
       "      <td>1672.0</td>\n",
       "      <td>318.0</td>\n",
       "      <td>1173.0</td>\n",
       "      <td>337.0</td>\n",
       "      <td>4.5774</td>\n",
       "      <td>182100.0</td>\n",
       "      <td>1.0</td>\n",
       "      <td>0.0</td>\n",
       "      <td>0.0</td>\n",
       "      <td>0.0</td>\n",
       "      <td>0.0</td>\n",
       "    </tr>\n",
       "    <tr>\n",
       "      <th>956</th>\n",
       "      <td>-116.89</td>\n",
       "      <td>33.79</td>\n",
       "      <td>12.0</td>\n",
       "      <td>701.0</td>\n",
       "      <td>130.0</td>\n",
       "      <td>434.0</td>\n",
       "      <td>110.0</td>\n",
       "      <td>2.0577</td>\n",
       "      <td>56700.0</td>\n",
       "      <td>0.0</td>\n",
       "      <td>1.0</td>\n",
       "      <td>0.0</td>\n",
       "      <td>0.0</td>\n",
       "      <td>0.0</td>\n",
       "    </tr>\n",
       "    <tr>\n",
       "      <th>1979</th>\n",
       "      <td>-118.31</td>\n",
       "      <td>34.03</td>\n",
       "      <td>29.0</td>\n",
       "      <td>2438.0</td>\n",
       "      <td>867.0</td>\n",
       "      <td>2114.0</td>\n",
       "      <td>753.0</td>\n",
       "      <td>0.8351</td>\n",
       "      <td>150000.0</td>\n",
       "      <td>1.0</td>\n",
       "      <td>0.0</td>\n",
       "      <td>0.0</td>\n",
       "      <td>0.0</td>\n",
       "      <td>0.0</td>\n",
       "    </tr>\n",
       "    <tr>\n",
       "      <th>1286</th>\n",
       "      <td>-121.31</td>\n",
       "      <td>37.96</td>\n",
       "      <td>52.0</td>\n",
       "      <td>1829.0</td>\n",
       "      <td>301.0</td>\n",
       "      <td>694.0</td>\n",
       "      <td>319.0</td>\n",
       "      <td>3.3466</td>\n",
       "      <td>92600.0</td>\n",
       "      <td>0.0</td>\n",
       "      <td>1.0</td>\n",
       "      <td>0.0</td>\n",
       "      <td>0.0</td>\n",
       "      <td>0.0</td>\n",
       "    </tr>\n",
       "  </tbody>\n",
       "</table>\n",
       "<p>4128 rows × 14 columns</p>\n",
       "</div>"
      ],
      "text/plain": [
       "       longitude  latitude  housing_median_age  total_rooms  total_bedrooms  \\\n",
       "9491     -118.36     34.18                36.0       2233.0           605.0   \n",
       "11843    -117.07     32.69                29.0       1429.0           293.0   \n",
       "11271    -117.27     33.15                 4.0      23915.0          4135.0   \n",
       "19219    -118.29     34.05                18.0       3585.0          1661.0   \n",
       "14356    -118.38     33.87                23.0       2387.0           418.0   \n",
       "...          ...       ...                 ...          ...             ...   \n",
       "16911    -117.06     34.90                36.0       2828.0           916.0   \n",
       "16881    -117.93     33.86                36.0       1672.0           318.0   \n",
       "956      -116.89     33.79                12.0        701.0           130.0   \n",
       "1979     -118.31     34.03                29.0       2438.0           867.0   \n",
       "1286     -121.31     37.96                52.0       1829.0           301.0   \n",
       "\n",
       "       population  households  median_income  median_house_value  \\\n",
       "9491       1934.0       599.0         2.8784            194900.0   \n",
       "11843      1091.0       317.0         3.4609            118000.0   \n",
       "11271     10877.0      3958.0         4.6357            244900.0   \n",
       "19219      5229.0      1534.0         1.8470            250000.0   \n",
       "14356      1008.0       415.0         5.8518            337900.0   \n",
       "...           ...         ...            ...                 ...   \n",
       "16911      1762.0       736.0         1.4318             59600.0   \n",
       "16881      1173.0       337.0         4.5774            182100.0   \n",
       "956         434.0       110.0         2.0577             56700.0   \n",
       "1979       2114.0       753.0         0.8351            150000.0   \n",
       "1286        694.0       319.0         3.3466             92600.0   \n",
       "\n",
       "       ocean_proximity_<1H OCEAN  ocean_proximity_INLAND  \\\n",
       "9491                         1.0                     0.0   \n",
       "11843                        0.0                     0.0   \n",
       "11271                        0.0                     0.0   \n",
       "19219                        1.0                     0.0   \n",
       "14356                        1.0                     0.0   \n",
       "...                          ...                     ...   \n",
       "16911                        0.0                     1.0   \n",
       "16881                        1.0                     0.0   \n",
       "956                          0.0                     1.0   \n",
       "1979                         1.0                     0.0   \n",
       "1286                         0.0                     1.0   \n",
       "\n",
       "       ocean_proximity_ISLAND  ocean_proximity_NEAR BAY  \\\n",
       "9491                      0.0                       0.0   \n",
       "11843                     0.0                       0.0   \n",
       "11271                     0.0                       0.0   \n",
       "19219                     0.0                       0.0   \n",
       "14356                     0.0                       0.0   \n",
       "...                       ...                       ...   \n",
       "16911                     0.0                       0.0   \n",
       "16881                     0.0                       0.0   \n",
       "956                       0.0                       0.0   \n",
       "1979                      0.0                       0.0   \n",
       "1286                      0.0                       0.0   \n",
       "\n",
       "       ocean_proximity_NEAR OCEAN  \n",
       "9491                          0.0  \n",
       "11843                         1.0  \n",
       "11271                         1.0  \n",
       "19219                         0.0  \n",
       "14356                         0.0  \n",
       "...                           ...  \n",
       "16911                         0.0  \n",
       "16881                         0.0  \n",
       "956                           0.0  \n",
       "1979                          0.0  \n",
       "1286                          0.0  \n",
       "\n",
       "[4128 rows x 14 columns]"
      ]
     },
     "execution_count": 17,
     "metadata": {},
     "output_type": "execute_result"
    }
   ],
   "source": [
    "test_set = pd.get_dummies(test_set, columns=['ocean_proximity'], dtype=np.float64)\n",
    "test_set"
   ]
  },
  {
   "cell_type": "code",
   "execution_count": 18,
   "id": "2d0d62ab-9e70-4b12-a9aa-b8e8db80d41b",
   "metadata": {},
   "outputs": [
    {
     "data": {
      "text/html": [
       "<div>\n",
       "<style scoped>\n",
       "    .dataframe tbody tr th:only-of-type {\n",
       "        vertical-align: middle;\n",
       "    }\n",
       "\n",
       "    .dataframe tbody tr th {\n",
       "        vertical-align: top;\n",
       "    }\n",
       "\n",
       "    .dataframe thead th {\n",
       "        text-align: right;\n",
       "    }\n",
       "</style>\n",
       "<table border=\"1\" class=\"dataframe\">\n",
       "  <thead>\n",
       "    <tr style=\"text-align: right;\">\n",
       "      <th></th>\n",
       "      <th>longitude</th>\n",
       "      <th>latitude</th>\n",
       "      <th>housing_median_age</th>\n",
       "      <th>total_rooms</th>\n",
       "      <th>total_bedrooms</th>\n",
       "      <th>population</th>\n",
       "      <th>households</th>\n",
       "      <th>median_income</th>\n",
       "      <th>median_house_value</th>\n",
       "      <th>ocean_proximity_1h_ocean</th>\n",
       "      <th>ocean_proximity_inland</th>\n",
       "      <th>ocean_proximity_island</th>\n",
       "      <th>ocean_proximity_near_bay</th>\n",
       "      <th>ocean_proximity_near_ocean</th>\n",
       "    </tr>\n",
       "  </thead>\n",
       "  <tbody>\n",
       "    <tr>\n",
       "      <th>9491</th>\n",
       "      <td>-118.36</td>\n",
       "      <td>34.18</td>\n",
       "      <td>36.0</td>\n",
       "      <td>2233.0</td>\n",
       "      <td>605.0</td>\n",
       "      <td>1934.0</td>\n",
       "      <td>599.0</td>\n",
       "      <td>2.8784</td>\n",
       "      <td>194900.0</td>\n",
       "      <td>1.0</td>\n",
       "      <td>0.0</td>\n",
       "      <td>0.0</td>\n",
       "      <td>0.0</td>\n",
       "      <td>0.0</td>\n",
       "    </tr>\n",
       "    <tr>\n",
       "      <th>11843</th>\n",
       "      <td>-117.07</td>\n",
       "      <td>32.69</td>\n",
       "      <td>29.0</td>\n",
       "      <td>1429.0</td>\n",
       "      <td>293.0</td>\n",
       "      <td>1091.0</td>\n",
       "      <td>317.0</td>\n",
       "      <td>3.4609</td>\n",
       "      <td>118000.0</td>\n",
       "      <td>0.0</td>\n",
       "      <td>0.0</td>\n",
       "      <td>0.0</td>\n",
       "      <td>0.0</td>\n",
       "      <td>1.0</td>\n",
       "    </tr>\n",
       "    <tr>\n",
       "      <th>11271</th>\n",
       "      <td>-117.27</td>\n",
       "      <td>33.15</td>\n",
       "      <td>4.0</td>\n",
       "      <td>23915.0</td>\n",
       "      <td>4135.0</td>\n",
       "      <td>10877.0</td>\n",
       "      <td>3958.0</td>\n",
       "      <td>4.6357</td>\n",
       "      <td>244900.0</td>\n",
       "      <td>0.0</td>\n",
       "      <td>0.0</td>\n",
       "      <td>0.0</td>\n",
       "      <td>0.0</td>\n",
       "      <td>1.0</td>\n",
       "    </tr>\n",
       "    <tr>\n",
       "      <th>19219</th>\n",
       "      <td>-118.29</td>\n",
       "      <td>34.05</td>\n",
       "      <td>18.0</td>\n",
       "      <td>3585.0</td>\n",
       "      <td>1661.0</td>\n",
       "      <td>5229.0</td>\n",
       "      <td>1534.0</td>\n",
       "      <td>1.8470</td>\n",
       "      <td>250000.0</td>\n",
       "      <td>1.0</td>\n",
       "      <td>0.0</td>\n",
       "      <td>0.0</td>\n",
       "      <td>0.0</td>\n",
       "      <td>0.0</td>\n",
       "    </tr>\n",
       "    <tr>\n",
       "      <th>14356</th>\n",
       "      <td>-118.38</td>\n",
       "      <td>33.87</td>\n",
       "      <td>23.0</td>\n",
       "      <td>2387.0</td>\n",
       "      <td>418.0</td>\n",
       "      <td>1008.0</td>\n",
       "      <td>415.0</td>\n",
       "      <td>5.8518</td>\n",
       "      <td>337900.0</td>\n",
       "      <td>1.0</td>\n",
       "      <td>0.0</td>\n",
       "      <td>0.0</td>\n",
       "      <td>0.0</td>\n",
       "      <td>0.0</td>\n",
       "    </tr>\n",
       "  </tbody>\n",
       "</table>\n",
       "</div>"
      ],
      "text/plain": [
       "       longitude  latitude  housing_median_age  total_rooms  total_bedrooms  \\\n",
       "9491     -118.36     34.18                36.0       2233.0           605.0   \n",
       "11843    -117.07     32.69                29.0       1429.0           293.0   \n",
       "11271    -117.27     33.15                 4.0      23915.0          4135.0   \n",
       "19219    -118.29     34.05                18.0       3585.0          1661.0   \n",
       "14356    -118.38     33.87                23.0       2387.0           418.0   \n",
       "\n",
       "       population  households  median_income  median_house_value  \\\n",
       "9491       1934.0       599.0         2.8784            194900.0   \n",
       "11843      1091.0       317.0         3.4609            118000.0   \n",
       "11271     10877.0      3958.0         4.6357            244900.0   \n",
       "19219      5229.0      1534.0         1.8470            250000.0   \n",
       "14356      1008.0       415.0         5.8518            337900.0   \n",
       "\n",
       "       ocean_proximity_1h_ocean  ocean_proximity_inland  \\\n",
       "9491                        1.0                     0.0   \n",
       "11843                       0.0                     0.0   \n",
       "11271                       0.0                     0.0   \n",
       "19219                       1.0                     0.0   \n",
       "14356                       1.0                     0.0   \n",
       "\n",
       "       ocean_proximity_island  ocean_proximity_near_bay  \\\n",
       "9491                      0.0                       0.0   \n",
       "11843                     0.0                       0.0   \n",
       "11271                     0.0                       0.0   \n",
       "19219                     0.0                       0.0   \n",
       "14356                     0.0                       0.0   \n",
       "\n",
       "       ocean_proximity_near_ocean  \n",
       "9491                          0.0  \n",
       "11843                         1.0  \n",
       "11271                         1.0  \n",
       "19219                         0.0  \n",
       "14356                         0.0  "
      ]
     },
     "execution_count": 18,
     "metadata": {},
     "output_type": "execute_result"
    }
   ],
   "source": [
    "test_set.columns\n",
    "test_set.rename(columns={'ocean_proximity_<1H OCEAN': 'ocean_proximity_1h_ocean', \n",
    "                        'ocean_proximity_INLAND': 'ocean_proximity_inland',\n",
    "                        'ocean_proximity_ISLAND': 'ocean_proximity_island', \n",
    "                        'ocean_proximity_NEAR BAY': 'ocean_proximity_near_bay',\n",
    "                        'ocean_proximity_NEAR OCEAN': 'ocean_proximity_near_ocean'}, inplace=True)\n",
    "test_set.head()"
   ]
  },
  {
   "cell_type": "markdown",
   "id": "347e3d5b-7085-4d06-880a-b369ef6c98b6",
   "metadata": {
    "jp-MarkdownHeadingCollapsed": true,
    "tags": []
   },
   "source": [
    "#### **Normalization**"
   ]
  },
  {
   "cell_type": "code",
   "execution_count": 19,
   "id": "9fde1a1a-95af-4a0c-bf82-ff39a5e35865",
   "metadata": {},
   "outputs": [
    {
     "data": {
      "text/plain": [
       "array([[0.60427263, 0.17252396, 0.68      , ..., 0.        , 0.        ,\n",
       "        0.        ],\n",
       "       [0.73550356, 0.01384452, 0.54      , ..., 0.        , 0.        ,\n",
       "        1.        ],\n",
       "       [0.71515768, 0.0628328 , 0.04      , ..., 0.        , 0.        ,\n",
       "        1.        ],\n",
       "       ...,\n",
       "       [0.75381485, 0.13099042, 0.2       , ..., 0.        , 0.        ,\n",
       "        0.        ],\n",
       "       [0.6093591 , 0.15654952, 0.54      , ..., 0.        , 0.        ,\n",
       "        0.        ],\n",
       "       [0.30417091, 0.57507987, 1.        , ..., 0.        , 0.        ,\n",
       "        0.        ]])"
      ]
     },
     "execution_count": 19,
     "metadata": {},
     "output_type": "execute_result"
    }
   ],
   "source": [
    "test_set = normz.fit_transform(test_set)\n",
    "test_set"
   ]
  },
  {
   "cell_type": "markdown",
   "id": "2d000c82-fb50-48a2-9ccb-f4ed852dc90c",
   "metadata": {
    "tags": []
   },
   "source": [
    "## **Split Test and Train data To X , y**"
   ]
  },
  {
   "cell_type": "code",
   "execution_count": 20,
   "id": "b0ef1634-61b1-4626-80f4-ff4f49605bac",
   "metadata": {},
   "outputs": [
    {
     "data": {
      "text/plain": [
       "((16512, 13), (16512,))"
      ]
     },
     "execution_count": 20,
     "metadata": {},
     "output_type": "execute_result"
    }
   ],
   "source": [
    "X = np.delete(train_set , 8 , axis=1)\n",
    "y = train_set[: , 8]\n",
    "X.shape , y.shape"
   ]
  },
  {
   "cell_type": "code",
   "execution_count": 21,
   "id": "a303f031-0aa0-40b1-a083-c2189b5aeae4",
   "metadata": {},
   "outputs": [
    {
     "name": "stdout",
     "output_type": "stream",
     "text": [
      "(14860, 13)\n",
      "(1652, 13)\n",
      "(14860,)\n",
      "(1652,)\n"
     ]
    }
   ],
   "source": [
    "X_train , X_valid , y_train , y_valid = train_test_split(X , y , test_size=0.1 , random_state=1)\n",
    "print(X_train.shape)\n",
    "print(X_valid.shape)\n",
    "print(y_train.shape)\n",
    "print(y_valid.shape)"
   ]
  },
  {
   "cell_type": "code",
   "execution_count": 22,
   "id": "19a7c362-73b4-4bf5-a534-d7df317eb73f",
   "metadata": {},
   "outputs": [
    {
     "data": {
      "text/plain": [
       "((4128, 13), (4128,))"
      ]
     },
     "execution_count": 22,
     "metadata": {},
     "output_type": "execute_result"
    }
   ],
   "source": [
    "X_test = np.delete(test_set , 8 , axis=1)\n",
    "y_test = test_set[: , 8]\n",
    "X_test.shape , y_test.shape"
   ]
  },
  {
   "cell_type": "markdown",
   "id": "003ef0b2-69f9-499f-9ed5-810e0f212ca2",
   "metadata": {},
   "source": [
    "## **Models**"
   ]
  },
  {
   "cell_type": "markdown",
   "id": "c20530b5-c6b5-40c3-9033-92bc3cd545a8",
   "metadata": {},
   "source": [
    "### *LinearRegression*"
   ]
  },
  {
   "cell_type": "code",
   "execution_count": 23,
   "id": "fd4e2a94-594b-47f8-a81d-73672b41a94d",
   "metadata": {},
   "outputs": [
    {
     "data": {
      "text/plain": [
       "0.6414581406095712"
      ]
     },
     "execution_count": 23,
     "metadata": {},
     "output_type": "execute_result"
    }
   ],
   "source": [
    "linear_regression = LinearRegression()\n",
    "linear_regression.fit(X_train , y_train)\n",
    "linear_regression.score(X_valid , y_valid)"
   ]
  },
  {
   "cell_type": "markdown",
   "id": "3b269cbf-58e9-4fd7-a020-73494009ee77",
   "metadata": {},
   "source": [
    "### *KNeighborsRegressor*"
   ]
  },
  {
   "cell_type": "code",
   "execution_count": 24,
   "id": "f0f542c3-c4c7-42f0-805b-d7dfd06c4ebe",
   "metadata": {},
   "outputs": [
    {
     "data": {
      "text/plain": [
       "0.6351064744772404"
      ]
     },
     "execution_count": 24,
     "metadata": {},
     "output_type": "execute_result"
    }
   ],
   "source": [
    "knn_regression = KNeighborsRegressor(n_neighbors=150)\n",
    "knn_regression.fit(X_train , y_train)\n",
    "knn_regression.score(X_valid , y_valid)"
   ]
  },
  {
   "cell_type": "markdown",
   "id": "7fc18ea7-e8c2-489b-9a63-13bf7e1e4c47",
   "metadata": {},
   "source": [
    "### *SVM_Regressor*"
   ]
  },
  {
   "cell_type": "code",
   "execution_count": 25,
   "id": "befba963-0242-4133-a084-e1c9ad2bcd88",
   "metadata": {},
   "outputs": [
    {
     "data": {
      "text/plain": [
       "0.7324156752239723"
      ]
     },
     "execution_count": 25,
     "metadata": {},
     "output_type": "execute_result"
    }
   ],
   "source": [
    "svm_regression = svm.SVR()\n",
    "svm_regression.fit(X_train , y_train)\n",
    "svm_regression.score(X_valid , y_valid)"
   ]
  },
  {
   "cell_type": "markdown",
   "id": "01226df0-de25-40c6-99a9-22dcd02f79de",
   "metadata": {},
   "source": [
    "## **Predictions**"
   ]
  },
  {
   "cell_type": "code",
   "execution_count": 26,
   "id": "f2d77899-2a79-4597-a0dd-34c0fe222b8f",
   "metadata": {},
   "outputs": [],
   "source": [
    "linear_regression_pred = linear_regression.predict(X_test)\n",
    "knn_regression_pred = knn_regression.predict(X_test)\n",
    "svm_regression_pred = svm_regression.predict(X_test)"
   ]
  },
  {
   "cell_type": "code",
   "execution_count": 32,
   "id": "e5b2d64c-0b23-4041-962d-09e03dfb40bd",
   "metadata": {},
   "outputs": [
    {
     "data": {
      "text/plain": [
       "0.47427285947040654"
      ]
     },
     "execution_count": 32,
     "metadata": {},
     "output_type": "execute_result"
    }
   ],
   "source": [
    "r2_score(y_test , linear_regression_pred)"
   ]
  },
  {
   "cell_type": "code",
   "execution_count": 33,
   "id": "5f9e4fe6-8bc3-4edd-8d54-236ca8ba39d7",
   "metadata": {},
   "outputs": [
    {
     "data": {
      "text/plain": [
       "0.6218011159941859"
      ]
     },
     "execution_count": 33,
     "metadata": {},
     "output_type": "execute_result"
    }
   ],
   "source": [
    "r2_score(y_test , knn_regression_pred)"
   ]
  },
  {
   "cell_type": "code",
   "execution_count": 34,
   "id": "3462a890-49b5-4b59-9589-66e14e44ae19",
   "metadata": {},
   "outputs": [
    {
     "data": {
      "text/plain": [
       "0.6110606684188757"
      ]
     },
     "execution_count": 34,
     "metadata": {},
     "output_type": "execute_result"
    }
   ],
   "source": [
    "r2_score(y_test , svm_regression_pred)"
   ]
  },
  {
   "cell_type": "code",
   "execution_count": 35,
   "id": "93417d5a-b3d0-461b-b0d2-044509cd64d7",
   "metadata": {},
   "outputs": [
    {
     "data": {
      "text/plain": [
       "0.6259417517423884"
      ]
     },
     "execution_count": 35,
     "metadata": {},
     "output_type": "execute_result"
    }
   ],
   "source": [
    "ensemble_prediction = np.vstack((linear_regression_pred , knn_regression_pred , svm_regression_pred)).T\n",
    "ensemble_prediction = ensemble_prediction.mean(axis=1)\n",
    "r2_score(y_test , ensemble_prediction)"
   ]
  },
  {
   "cell_type": "markdown",
   "id": "17b8e79b-9853-4b85-b85e-c3ac8192cf67",
   "metadata": {},
   "source": [
    "## **Plots**"
   ]
  },
  {
   "cell_type": "code",
   "execution_count": 28,
   "id": "8a3b2580-9fcb-47a2-ae0e-4c2959b325d1",
   "metadata": {},
   "outputs": [
    {
     "data": {
      "image/png": "[encoded data removed]",
      "text/plain": [
       "<Figure size 576x360 with 1 Axes>"
      ]
     },
     "metadata": {
      "needs_background": "light"
     },
     "output_type": "display_data"
    }
   ],
   "source": [
    "plt.figure(figsize=(8 , 5))\n",
    "sns.kdeplot(linear_regression_pred , fill=True , label='linear_regression_pred' , color='r');\n",
    "sns.kdeplot(y_test, fill=True , label='Real Values' , color='b');\n",
    "plt.legend();"
   ]
  },
  {
   "cell_type": "code",
   "execution_count": 29,
   "id": "3c7f96fb-f995-4c2f-ae69-bbc34b043583",
   "metadata": {},
   "outputs": [
    {
     "data": {
      "image/png": "[encoded data removed]",
      "text/plain": [
       "<Figure size 576x360 with 1 Axes>"
      ]
     },
     "metadata": {
      "needs_background": "light"
     },
     "output_type": "display_data"
    }
   ],
   "source": [
    "plt.figure(figsize=(8 , 5))\n",
    "sns.kdeplot(knn_regression_pred , fill=True , label='knn_regression_pred' , color='r');\n",
    "sns.kdeplot(y_test, fill=True , label='Real Values' , color='b');\n",
    "plt.legend();"
   ]
  },
  {
   "cell_type": "code",
   "execution_count": 30,
   "id": "30912646-d6b2-43b9-b92d-9df6c211e874",
   "metadata": {},
   "outputs": [
    {
     "data": {
      "image/png": "[encoded data removed]",
      "text/plain": [
       "<Figure size 576x360 with 1 Axes>"
      ]
     },
     "metadata": {
      "needs_background": "light"
     },
     "output_type": "display_data"
    }
   ],
   "source": [
    "plt.figure(figsize=(8 , 5))\n",
    "sns.kdeplot(svm_regression_pred , fill=True , label='svm_regression_pred' , color='r');\n",
    "sns.kdeplot(y_test, fill=True , label='Real Values' , color='b');\n",
    "plt.legend();"
   ]
  },
  {
   "cell_type": "code",
   "execution_count": 31,
   "id": "aa6b43db-8101-4cfb-9861-80825fe59259",
   "metadata": {},
   "outputs": [
    {
     "data": {
      "image/png": "[encoded data removed]",
      "text/plain": [
       "<Figure size 576x360 with 1 Axes>"
      ]
     },
     "metadata": {
      "needs_background": "light"
     },
     "output_type": "display_data"
    }
   ],
   "source": [
    "plt.figure(figsize=(8 , 5))\n",
    "sns.kdeplot(ensemble_prediction , fill=True , label='ensemble_prediction' , color='r');\n",
    "sns.kdeplot(y_test, fill=True , label='Real Values' , color='b');\n",
    "plt.legend();"
   ]
  },
  {
   "cell_type": "code",
   "execution_count": null,
   "id": "4b1c70e8-b679-4d89-9bf6-c1ca271f2a94",
   "metadata": {},
   "outputs": [],
   "source": []
  }
 ],
 "metadata": {
  "kernelspec": {
   "display_name": "Python 3",
   "language": "python",
   "name": "python3"
  },
  "language_info": {
   "codemirror_mode": {
    "name": "ipython",
    "version": 3
   },
   "file_extension": ".py",
   "mimetype": "text/x-python",
   "name": "python",
   "nbconvert_exporter": "python",
   "pygments_lexer": "ipython3",
   "version": "3.7.16"
  }
 },
 "nbformat": 4,
 "nbformat_minor": 5
}
